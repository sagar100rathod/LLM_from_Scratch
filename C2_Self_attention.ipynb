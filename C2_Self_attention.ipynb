{
 "cells": [
  {
   "cell_type": "markdown",
   "id": "82cd4cd9",
   "metadata": {},
   "source": [
    "## Self Attention"
   ]
  },
  {
   "cell_type": "code",
   "execution_count": 1,
   "id": "7a84621c",
   "metadata": {},
   "outputs": [],
   "source": [
    "import torch\n",
    "import torch.nn.functional as F\n",
    "\n",
    "class SelfAttention(torch.nn.Module):\n",
    "    \n",
    "    def __init__(self, embedding_size:int = 4, dim_out: int = 4):\n",
    "        super().__init__()\n",
    "        self.wq = torch.nn.Linear(embedding_size, dim_out, bias=False)\n",
    "        self.wk = torch.nn.Linear(embedding_size, dim_out, bias=False)\n",
    "        self.wv = torch.nn.Linear(embedding_size, dim_out, bias=False)\n",
    "        self.dim_out = dim_out\n",
    "\n",
    "    def forward(self, embeddings):\n",
    "\n",
    "        query = self.wq(embeddings)\n",
    "        key = self.wk(embeddings)\n",
    "        value = self.wv(embeddings)\n",
    "\n",
    "        #print(query.shape, key.shape, key.transpose(1, 2).shape)\n",
    "\n",
    "        sims = query @ key.transpose(1, 2)\n",
    "        scaled_sim = torch.softmax(sims / (self.dim_out ** 0.5), dim=1)\n",
    "\n",
    "        return scaled_sim @ value\n"
   ]
  },
  {
   "cell_type": "code",
   "execution_count": 2,
   "id": "a71096f6",
   "metadata": {},
   "outputs": [
    {
     "data": {
      "text/plain": [
       "(tensor([[-0.1002, -0.6092, -0.9798, -1.6091],\n",
       "         [-0.7121,  0.3037, -0.7773, -0.2515],\n",
       "         [-0.2223,  1.6871,  0.2284,  0.4676]], grad_fn=<EmbeddingBackward0>),\n",
       " torch.Size([3, 4]))"
      ]
     },
     "execution_count": 2,
     "metadata": {},
     "output_type": "execute_result"
    }
   ],
   "source": [
    "torch.manual_seed(1)\n",
    "embeddings = torch.nn.Embedding(1000, embedding_dim=4)\n",
    "attention = SelfAttention(embedding_size=4, dim_out=4)\n",
    "\n",
    "token_ids = torch.tensor([1, 2, 3])\n",
    "encodings = embeddings(token_ids)\n",
    "\n",
    "encodings, encodings.shape"
   ]
  },
  {
   "cell_type": "code",
   "execution_count": 3,
   "id": "c5817215",
   "metadata": {},
   "outputs": [
    {
     "data": {
      "text/plain": [
       "tensor([[[ 0.4988, -0.0794, -0.1961, -0.1125],\n",
       "         [ 0.3090, -0.0089, -0.1176, -0.1369],\n",
       "         [ 0.1714,  0.0687, -0.0565, -0.1875]]], grad_fn=<UnsafeViewBackward0>)"
      ]
     },
     "execution_count": 3,
     "metadata": {},
     "output_type": "execute_result"
    }
   ],
   "source": [
    "# add batch dimension \n",
    "encodings = encodings.unsqueeze(0)\n",
    "\n",
    "attention(encodings)"
   ]
  },
  {
   "cell_type": "code",
   "execution_count": 4,
   "id": "dbf70c40",
   "metadata": {},
   "outputs": [
    {
     "data": {
      "text/plain": [
       "tensor([[[0.1938, 0.4927],\n",
       "         [0.0168, 0.4322],\n",
       "         [3.9125, 2.7733]]], grad_fn=<UnsafeViewBackward0>)"
      ]
     },
     "execution_count": 4,
     "metadata": {},
     "output_type": "execute_result"
    }
   ],
   "source": [
    "torch.manual_seed(42)\n",
    "\n",
    "attention = SelfAttention(embedding_size=2, dim_out=2)\n",
    "encodings = torch.tensor([[1.16, 0.23],\n",
    "                          [0.57, 1.36],\n",
    "                          [4.41, -2.16]])\n",
    "\n",
    "encodings = encodings.unsqueeze(dim=0)\n",
    "attention(encodings)"
   ]
  },
  {
   "cell_type": "markdown",
   "id": "20a6c776",
   "metadata": {},
   "source": [
    "#### Check Step by step calculation"
   ]
  },
  {
   "cell_type": "code",
   "execution_count": 5,
   "id": "1d478b35",
   "metadata": {},
   "outputs": [
    {
     "data": {
      "text/plain": [
       "tensor([[ 0.5406, -0.1657],\n",
       "        [ 0.5869,  0.6496]], grad_fn=<PermuteBackward0>)"
      ]
     },
     "execution_count": 5,
     "metadata": {},
     "output_type": "execute_result"
    }
   ],
   "source": [
    "attention.wq.weight.T"
   ]
  },
  {
   "cell_type": "code",
   "execution_count": 6,
   "id": "4c37c738",
   "metadata": {},
   "outputs": [
    {
     "data": {
      "text/plain": [
       "tensor([[-0.1549, -0.3443],\n",
       "        [ 0.1427,  0.4153]], grad_fn=<PermuteBackward0>)"
      ]
     },
     "execution_count": 6,
     "metadata": {},
     "output_type": "execute_result"
    }
   ],
   "source": [
    "attention.wk.weight.T"
   ]
  },
  {
   "cell_type": "code",
   "execution_count": 7,
   "id": "fc1ac730",
   "metadata": {},
   "outputs": [
    {
     "data": {
      "text/plain": [
       "tensor([[ 0.6233,  0.6146],\n",
       "        [-0.5188,  0.1323]], grad_fn=<PermuteBackward0>)"
      ]
     },
     "execution_count": 7,
     "metadata": {},
     "output_type": "execute_result"
    }
   ],
   "source": [
    "attention.wv.weight.T"
   ]
  },
  {
   "cell_type": "code",
   "execution_count": 8,
   "id": "b6d8aefb",
   "metadata": {},
   "outputs": [
    {
     "data": {
      "text/plain": [
       "tensor([[[ 0.7621, -0.0428],\n",
       "         [ 1.1063,  0.7890],\n",
       "         [ 1.1164, -2.1336]]], grad_fn=<UnsafeViewBackward0>)"
      ]
     },
     "execution_count": 8,
     "metadata": {},
     "output_type": "execute_result"
    }
   ],
   "source": [
    "q = attention.wq(encodings)\n",
    "q"
   ]
  },
  {
   "cell_type": "code",
   "execution_count": 9,
   "id": "ac80c199",
   "metadata": {},
   "outputs": [
    {
     "data": {
      "text/plain": [
       "tensor([[[-0.1469, -0.3038],\n",
       "         [ 0.1057,  0.3685],\n",
       "         [-0.9914, -2.4152]]], grad_fn=<UnsafeViewBackward0>)"
      ]
     },
     "execution_count": 9,
     "metadata": {},
     "output_type": "execute_result"
    }
   ],
   "source": [
    "k = attention.wk(encodings)\n",
    "k"
   ]
  },
  {
   "cell_type": "code",
   "execution_count": 12,
   "id": "fc37f6f9",
   "metadata": {},
   "outputs": [
    {
     "data": {
      "text/plain": [
       "tensor([[[-0.0990,  0.0648, -0.6523],\n",
       "         [-0.4022,  0.4078, -3.0024],\n",
       "         [ 0.4842, -0.6683,  4.0461]]], grad_fn=<UnsafeViewBackward0>)"
      ]
     },
     "execution_count": 12,
     "metadata": {},
     "output_type": "execute_result"
    }
   ],
   "source": [
    "sims = torch.matmul(q, k.transpose(1, 2))\n",
    "sims"
   ]
  },
  {
   "cell_type": "code",
   "execution_count": 13,
   "id": "dd62f4eb",
   "metadata": {},
   "outputs": [
    {
     "data": {
      "text/plain": [
       "tensor([[[0.3014, 0.3484, 0.0346],\n",
       "         [0.2433, 0.4441, 0.0066],\n",
       "         [0.4553, 0.2075, 0.9588]]], grad_fn=<SoftmaxBackward0>)"
      ]
     },
     "execution_count": 13,
     "metadata": {},
     "output_type": "execute_result"
    }
   ],
   "source": [
    "scaled_sim = F.softmax(sims / (torch.tensor(2) ** 0.5), dim=1)\n",
    "scaled_sim"
   ]
  },
  {
   "cell_type": "code",
   "execution_count": 14,
   "id": "def176d2",
   "metadata": {},
   "outputs": [
    {
     "data": {
      "text/plain": [
       "tensor([[[0.1938, 0.4927],\n",
       "         [0.0168, 0.4322],\n",
       "         [3.9125, 2.7733]]], grad_fn=<UnsafeViewBackward0>)"
      ]
     },
     "execution_count": 14,
     "metadata": {},
     "output_type": "execute_result"
    }
   ],
   "source": [
    "torch.matmul(scaled_sim, attention.wv(encodings))"
   ]
  },
  {
   "cell_type": "markdown",
   "id": "e3dfe083",
   "metadata": {},
   "source": [
    "### Hiding Future words with causal attention\n",
    "\n",
    "* In causal attention, the attention weights above the diagonal are masked, ensuring that for any given input, the LLM is unable to utilize future tokens while calculating the context vectors with the attention weight."
   ]
  },
  {
   "cell_type": "code",
   "execution_count": 9,
   "id": "c1d6ccbf",
   "metadata": {},
   "outputs": [
    {
     "data": {
      "image/png": "[encoded data removed]",
      "text/plain": [
       "<IPython.core.display.Image object>"
      ]
     },
     "execution_count": 9,
     "metadata": {
      "image/png": {
       "height": 150,
       "width": 400
      }
     },
     "output_type": "execute_result"
    }
   ],
   "source": [
    "from IPython.display import Image\n",
    "Image(filename=\"./images/causal_attention.png\", width=400, height=150)"
   ]
  },
  {
   "cell_type": "markdown",
   "id": "d05d2317",
   "metadata": {},
   "source": [
    "* In this section, we are converting the previous self-attention mechanism into a causal self-attention mechanism\n",
    "* Causal self-attention ensures that the model's prediction for a certain position in a sequence is only dependent on the known outputs at previous positions, not on future positions\n",
    "* In simpler words, this ensures that each next word prediction should only depend on the preceding words\n",
    "* To achieve this, for each given token, we mask out the future tokens (the ones that come after the current token in the input text)"
   ]
  },
  {
   "cell_type": "code",
   "execution_count": 12,
   "id": "e2accd93",
   "metadata": {},
   "outputs": [
    {
     "data": {
      "image/png": "[encoded data removed]",
      "text/plain": [
       "<IPython.core.display.Image object>"
      ]
     },
     "execution_count": 12,
     "metadata": {
      "image/png": {
       "height": 150,
       "width": 600
      }
     },
     "output_type": "execute_result"
    }
   ],
   "source": [
    "from IPython.display import Image\n",
    "Image(filename=\"./images/causal_attention_steps.png\", width=600, height=150)"
   ]
  },
  {
   "cell_type": "code",
   "execution_count": 14,
   "id": "51b10558",
   "metadata": {},
   "outputs": [
    {
     "data": {
      "text/plain": [
       "tensor([[0., 1., 1., 1., 1.],\n",
       "        [0., 0., 1., 1., 1.],\n",
       "        [0., 0., 0., 1., 1.],\n",
       "        [0., 0., 0., 0., 1.],\n",
       "        [0., 0., 0., 0., 0.]])"
      ]
     },
     "execution_count": 14,
     "metadata": {},
     "output_type": "execute_result"
    }
   ],
   "source": [
    "torch.triu(torch.ones(5, 5), diagonal=1)"
   ]
  },
  {
   "cell_type": "code",
   "execution_count": 31,
   "id": "0af7c53a",
   "metadata": {},
   "outputs": [],
   "source": [
    "class CausalSelfAttention(torch.nn.Module):\n",
    "    \n",
    "    def __init__(self, embedding_size:int = 4, dim_out: int = 4, drop_out=0.2, context_length: int = 256):\n",
    "        super().__init__()\n",
    "        self.wq = torch.nn.Linear(embedding_size, dim_out, bias=False)\n",
    "        self.wk = torch.nn.Linear(embedding_size, dim_out, bias=False)\n",
    "        self.wv = torch.nn.Linear(embedding_size, dim_out, bias=False)\n",
    "        self.dim_out = dim_out\n",
    "        self.dropout = torch.nn.Dropout(drop_out)\n",
    "        self.register_buffer('mask', torch.triu(torch.ones(context_length, context_length), diagonal=1))\n",
    "\n",
    "    def forward(self, embeddings):\n",
    "        b, num_tokens, d_in = embeddings.shape\n",
    "\n",
    "        query = self.wq(embeddings)\n",
    "        key = self.wk(embeddings)\n",
    "        value = self.wv(embeddings)\n",
    "\n",
    "        attn_scores = query @ key.transpose(1, 2)\n",
    "\n",
    "        mask_bool = self.mask.bool()[:num_tokens, :num_tokens]\n",
    "\n",
    "        attn_scores.masked_fill_(mask_bool, -torch.inf)\n",
    "\n",
    "        attn_weights = torch.softmax(attn_scores / (self.dim_out ** 0.5), dim=-1)\n",
    "\n",
    "        attn_weights = self.dropout(attn_weights)\n",
    "\n",
    "        context_vec = torch.matmul(attn_weights, value)\n",
    "        return context_vec"
   ]
  },
  {
   "cell_type": "code",
   "execution_count": 32,
   "id": "9b9a0b93",
   "metadata": {},
   "outputs": [
    {
     "data": {
      "text/plain": [
       "tensor([[[ 0.7547,  0.9292],\n",
       "         [-0.0077,  0.7589],\n",
       "         [ 0.0405,  0.0883]]], grad_fn=<UnsafeViewBackward0>)"
      ]
     },
     "execution_count": 32,
     "metadata": {},
     "output_type": "execute_result"
    }
   ],
   "source": [
    "torch.manual_seed(42)\n",
    "\n",
    "attention = CausalSelfAttention(embedding_size=2, \n",
    "                                dim_out=2, context_length=10)\n",
    "\n",
    "encodings = torch.tensor([[1.16, 0.23],\n",
    "                          [0.57, 1.36],\n",
    "                          [4.41, -2.16]])\n",
    "\n",
    "encodings = encodings.unsqueeze(dim=0) # add batch dim\n",
    "attention(encodings)"
   ]
  },
  {
   "cell_type": "markdown",
   "id": "11ded097",
   "metadata": {},
   "source": [
    "## MultiHead Attention\n",
    "\n",
    "* The main idea behind multi-head attention is to run the attention mechanism multiple times (in parallel) with different, learned linear projections. This allows the model to jointly attend to information from different representation subspaces at different positions."
   ]
  },
  {
   "cell_type": "code",
   "execution_count": 28,
   "id": "4d6ec78a",
   "metadata": {},
   "outputs": [],
   "source": [
    "class MultiHeadAttention(torch.nn.Module):\n",
    "\n",
    "    def __init__(self, embedding_size:int = 4, dim_out:int = 4, num_heads: int = 4):\n",
    "        super().__init__()\n",
    "        self.heads = torch.nn.ModuleList([CausalSelfAttention(embedding_size, dim_out) for _ in range(num_heads) \n",
    "                                          ])\n",
    "    def forward(self, embeddings):\n",
    "        return torch.cat([head(embeddings) for head in self.heads], dim=1)"
   ]
  },
  {
   "cell_type": "code",
   "execution_count": 30,
   "id": "3e8a9ac3",
   "metadata": {},
   "outputs": [
    {
     "data": {
      "text/plain": [
       "tensor([[[ 0.7547,  0.9292],\n",
       "         [ 0.0000,  0.0000],\n",
       "         [ 0.0000,  0.0000],\n",
       "         [ 0.0000,  0.0000],\n",
       "         [-0.2537, -0.1440],\n",
       "         [-0.7659, -0.9805]]], grad_fn=<CatBackward0>)"
      ]
     },
     "execution_count": 30,
     "metadata": {},
     "output_type": "execute_result"
    }
   ],
   "source": [
    "torch.manual_seed(42)\n",
    "attention = MultiHeadAttention(embedding_size=2, dim_out=2, num_heads=2)\n",
    "encodings = torch.tensor([[1.16, 0.23],\n",
    "                          [0.57, 1.36],\n",
    "                          [4.41, -2.16]])\n",
    "\n",
    "encodings = encodings.unsqueeze(dim=0) # add batch dim\n",
    "attention(encodings)"
   ]
  },
  {
   "cell_type": "code",
   "execution_count": null,
   "id": "b46c7ea0",
   "metadata": {},
   "outputs": [],
   "source": []
  },
  {
   "cell_type": "code",
   "execution_count": null,
   "id": "29a95cdf",
   "metadata": {},
   "outputs": [],
   "source": []
  }
 ],
 "metadata": {
  "kernelspec": {
   "display_name": "tti-model-inference-env",
   "language": "python",
   "name": "python3"
  },
  "language_info": {
   "codemirror_mode": {
    "name": "ipython",
    "version": 3
   },
   "file_extension": ".py",
   "mimetype": "text/x-python",
   "name": "python",
   "nbconvert_exporter": "python",
   "pygments_lexer": "ipython3",
   "version": "3.8.16"
  }
 },
 "nbformat": 4,
 "nbformat_minor": 5
}
