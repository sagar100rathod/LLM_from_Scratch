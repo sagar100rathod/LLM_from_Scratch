{
 "cells": [
  {
   "cell_type": "code",
   "execution_count": 1,
   "id": "7ab5c4f4",
   "metadata": {},
   "outputs": [
    {
     "name": "stdout",
     "output_type": "stream",
     "text": [
      "Input Shape: torch.Size([2, 4, 768])\n",
      "Output Shape: torch.Size([2, 4, 768])\n",
      "Input Shape: torch.Size([2, 4, 768])\n",
      "Output Shape: torch.Size([2, 4, 50257])\n",
      "Total Params: 163000320\n",
      "Token Embedding Layer Shape: torch.Size([50257, 768])\n",
      "Output Layer Shape: torch.Size([50257, 768])\n",
      "Total Size of the model (MB): 621.796875\n",
      "Encoded: [5211, 345, 760, 1997]\n",
      "tensor([[5211,  345,  760, 1997]]) torch.Size([1, 4])\n",
      "Ouput: tensor([[ 5211,   345,   760,  1997, 33031,  5494, 11095, 41083, 11123,  7258]])\n",
      "Decoded Text: Do you know anythingNewsletter hun DrugJane threateninguan\n"
     ]
    }
   ],
   "source": [
    "import ipynb\n",
    "\n",
    "# Runs the entire notebook\n",
    "from ipynb.fs.full.C3_LLM_architecture_GPT2 import GPTModel"
   ]
  },
  {
   "cell_type": "code",
   "execution_count": 2,
   "id": "e480bf50",
   "metadata": {},
   "outputs": [],
   "source": [
    "import torch\n",
    "import tiktoken"
   ]
  },
  {
   "cell_type": "code",
   "execution_count": 3,
   "id": "b57ab11a",
   "metadata": {},
   "outputs": [],
   "source": [
    "GPT_CONFIG = {\n",
    "    \"vocab_size\": 50257,\n",
    "    \"context_length\": 1024,\n",
    "    \"emb_dim\": 768,\n",
    "    \"n_heads\": 12,\n",
    "    \"n_layers\": 12,\n",
    "    \"drop_rate\": 0.1,\n",
    "    \"qkv_bias\": False,\n",
    "}\n",
    "\n",
    "model = GPTModel(GPT_CONFIG)"
   ]
  },
  {
   "cell_type": "markdown",
   "id": "8569ec41",
   "metadata": {},
   "source": [
    "# Calculating Text Generation Loss"
   ]
  },
  {
   "cell_type": "code",
   "execution_count": 4,
   "id": "fc02aa4d",
   "metadata": {},
   "outputs": [
    {
     "name": "stdout",
     "output_type": "stream",
     "text": [
      "Encoded Token IDs: [[2437, 389, 345], [2061, 318, 534]]\n",
      "Decoded Token IDs: ['How are you', 'What is your']\n",
      "tensor([[2437,  389,  345],\n",
      "        [2061,  318,  534]]) torch.Size([2, 3])\n",
      "tensor([[ 533,  345, 1804],\n",
      "        [ 271,  534, 1438]]) torch.Size([2, 3])\n"
     ]
    }
   ],
   "source": [
    "tokenizer = tiktoken.get_encoding(\"gpt2\")\n",
    "input_texts = [\"How are you\", \"What is your\"]\n",
    "target_next_words = [\"are you doing\", \"is your name\"]\n",
    "\n",
    "tokens = [tokenizer.encode(text) for text in input_texts]\n",
    "print(\"Encoded Token IDs:\", tokens)\n",
    "print(\"Decoded Token IDs:\", [tokenizer.decode(token_ids) for token_ids in tokens])\n",
    "\n",
    "X = torch.tensor(tokens)\n",
    "print(X, X.shape) # batch size, seq length\n",
    "\n",
    "y = torch.tensor([tokenizer.encode(text) for text in target_next_words])\n",
    "\n",
    "print(y, y.shape)"
   ]
  },
  {
   "cell_type": "code",
   "execution_count": 5,
   "id": "412c597a",
   "metadata": {},
   "outputs": [
    {
     "name": "stdout",
     "output_type": "stream",
     "text": [
      "Logits shape: torch.Size([2, 3, 50257])\n",
      "Probas shape: torch.Size([2, 3, 50257])\n"
     ]
    }
   ],
   "source": [
    "model.eval()\n",
    "with torch.no_grad():\n",
    "    logits = model(X)\n",
    "\n",
    "probas = torch.softmax(logits, dim=-1)\n",
    "print(\"Logits shape:\", logits.shape)\n",
    "print(\"Probas shape:\", probas.shape)"
   ]
  },
  {
   "cell_type": "code",
   "execution_count": 6,
   "id": "a54cb806",
   "metadata": {},
   "outputs": [
    {
     "name": "stdout",
     "output_type": "stream",
     "text": [
      "Predicted token ids shape: torch.Size([2, 3, 1])\n",
      "tensor([[[48299],\n",
      "         [15347],\n",
      "         [   14]],\n",
      "\n",
      "        [[37611],\n",
      "         [10752],\n",
      "         [37853]]])\n"
     ]
    }
   ],
   "source": [
    "predicted_token_ids = torch.argmax(probas, dim=-1, keepdim=True)\n",
    "print(\"Predicted token ids shape:\", predicted_token_ids.shape)\n",
    "print(predicted_token_ids)"
   ]
  },
  {
   "cell_type": "code",
   "execution_count": 7,
   "id": "bdba28da",
   "metadata": {},
   "outputs": [
    {
     "data": {
      "text/plain": [
       "(tensor([1.2766e-05, 1.3428e-05, 1.9073e-05]), torch.Size([3]))"
      ]
     },
     "execution_count": 7,
     "metadata": {},
     "output_type": "execute_result"
    }
   ],
   "source": [
    "# fetch probabilities for only target token ids\n",
    "batch_index = 0 \n",
    "predicted_probas__target1 = probas[batch_index, [0, 1, 2], y[batch_index]]\n",
    "predicted_probas__target1, predicted_probas__target1.shape"
   ]
  },
  {
   "cell_type": "code",
   "execution_count": 8,
   "id": "b02f0d07",
   "metadata": {},
   "outputs": [
    {
     "data": {
      "text/plain": [
       "(tensor([2.3120e-05, 2.2787e-05, 1.9343e-05]), torch.Size([3]))"
      ]
     },
     "execution_count": 8,
     "metadata": {},
     "output_type": "execute_result"
    }
   ],
   "source": [
    "batch_index = 1\n",
    "predicted_probas__target2 = probas[batch_index, [0, 1, 2], y[batch_index]]\n",
    "predicted_probas__target2, predicted_probas__target2.shape"
   ]
  },
  {
   "cell_type": "code",
   "execution_count": 9,
   "id": "fc29a7e8",
   "metadata": {},
   "outputs": [
    {
     "data": {
      "text/plain": [
       "tensor([-11.2687, -11.2182, -10.8672, -10.6748, -10.6893, -10.8532])"
      ]
     },
     "execution_count": 9,
     "metadata": {},
     "output_type": "execute_result"
    }
   ],
   "source": [
    "log_probas = torch.log(torch.cat((predicted_probas__target1, predicted_probas__target2)))\n",
    "log_probas"
   ]
  },
  {
   "cell_type": "code",
   "execution_count": 10,
   "id": "c166a7e6",
   "metadata": {},
   "outputs": [
    {
     "data": {
      "text/plain": [
       "tensor(-10.9286)"
      ]
     },
     "execution_count": 10,
     "metadata": {},
     "output_type": "execute_result"
    }
   ],
   "source": [
    "avg_log_probas = torch.mean(log_probas)\n",
    "avg_log_probas"
   ]
  },
  {
   "cell_type": "markdown",
   "id": "3eb7bd6b",
   "metadata": {},
   "source": [
    "* The goal is to get the average log probability as close to 0 as possible by updating the model's weights as par part of training process. However, in deep learning, the common practice is not to push the average probability up to 0 but rather to bring the negative average log probability down to 0. The negative average log probability is simply the average log probability multiplied by -1\n",
    "\n",
    "* In deep learning, the term for turning this negative value into positive is knows as the cross_entropy loss.\n",
    "\n",
    "* the cross entropy loss is popular measure in deep learning that measures the difference between two probability distributions, typically the true distribution of labels and the predicted distribution from a model."
   ]
  },
  {
   "cell_type": "code",
   "execution_count": 11,
   "id": "deefbe8e",
   "metadata": {},
   "outputs": [
    {
     "data": {
      "text/plain": [
       "tensor(10.9286)"
      ]
     },
     "execution_count": 11,
     "metadata": {},
     "output_type": "execute_result"
    }
   ],
   "source": [
    "neg_avg_log_probas = -1 * avg_log_probas\n",
    "neg_avg_log_probas"
   ]
  },
  {
   "cell_type": "code",
   "execution_count": 12,
   "id": "bc82bb05",
   "metadata": {},
   "outputs": [
    {
     "name": "stdout",
     "output_type": "stream",
     "text": [
      "Logits shape: torch.Size([2, 3, 50257])\n",
      "Target shape: torch.Size([2, 3])\n"
     ]
    }
   ],
   "source": [
    "print(\"Logits shape:\", logits.shape)\n",
    "print(\"Target shape:\", y.shape)"
   ]
  },
  {
   "cell_type": "code",
   "execution_count": 13,
   "id": "0f566a22",
   "metadata": {},
   "outputs": [
    {
     "name": "stdout",
     "output_type": "stream",
     "text": [
      "Flattened Logits: torch.Size([6, 50257])\n",
      "Flattened Targets: torch.Size([6])\n"
     ]
    }
   ],
   "source": [
    "logits_flat = logits.flatten(0, 1)\n",
    "targets_flat = y.flatten()\n",
    "print(\"Flattened Logits:\", logits_flat.shape)\n",
    "print(\"Flattened Targets:\", targets_flat.shape)"
   ]
  },
  {
   "cell_type": "code",
   "execution_count": 14,
   "id": "c4b6e8c7",
   "metadata": {},
   "outputs": [
    {
     "data": {
      "text/plain": [
       "tensor(10.9286)"
      ]
     },
     "execution_count": 14,
     "metadata": {},
     "output_type": "execute_result"
    }
   ],
   "source": [
    "loss = torch.nn.functional.cross_entropy(logits_flat, targets_flat)\n",
    "loss"
   ]
  },
  {
   "cell_type": "markdown",
   "id": "b4335a95",
   "metadata": {},
   "source": [
    "### Perplexity\n",
    "\n",
    "* Perplexity measures how well the probability distribution predicted by the model matches the actual distribution of the words in the dataset.\n",
    "* Similar to the loss, a lower perplexity indicates that the model predictions are closer to the actual distribution.\n",
    "* Perplexity is calculated as = exp(loss)"
   ]
  },
  {
   "cell_type": "code",
   "execution_count": 15,
   "id": "c77f34c6",
   "metadata": {},
   "outputs": [
    {
     "data": {
      "text/plain": [
       "tensor(55746.9727)"
      ]
     },
     "execution_count": 15,
     "metadata": {},
     "output_type": "execute_result"
    }
   ],
   "source": [
    "torch.exp(loss) \n",
    "# this would translate to the model being unsure about which among 55746 tokens in the vocabulary to generate as the next token."
   ]
  },
  {
   "cell_type": "markdown",
   "id": "99b183e5",
   "metadata": {},
   "source": [
    "## Dataset"
   ]
  },
  {
   "cell_type": "code",
   "execution_count": 16,
   "id": "9e6ae9e1",
   "metadata": {},
   "outputs": [
    {
     "name": "stdout",
     "output_type": "stream",
     "text": [
      "Characters: 20479\n",
      "Total tokens: 5145\n"
     ]
    }
   ],
   "source": [
    "with open(\"./data/the-verdict.txt\", \"r\", encoding=\"utf-8\") as fp:\n",
    "    text_data = fp.read()\n",
    "\n",
    "total_characters = len(text_data)\n",
    "total_tokens = len(tokenizer.encode(text_data))\n",
    "print(\"Characters:\", total_characters)\n",
    "print(\"Total tokens:\", total_tokens)"
   ]
  },
  {
   "cell_type": "markdown",
   "id": "f0ad1b60",
   "metadata": {},
   "source": [
    "# Train and Validation set"
   ]
  },
  {
   "cell_type": "code",
   "execution_count": 17,
   "id": "9c1e0370",
   "metadata": {},
   "outputs": [],
   "source": [
    "train_ratio = 0.9\n",
    "split_idx = int(train_ratio * total_characters)\n",
    "train_data = text_data[:split_idx]\n",
    "val_data = text_data[split_idx:]"
   ]
  },
  {
   "cell_type": "code",
   "execution_count": 18,
   "id": "01cf1660",
   "metadata": {},
   "outputs": [],
   "source": [
    "GPT_CONFIG = {\n",
    "    \"vocab_size\": 50257,\n",
    "    \"context_length\": 256,\n",
    "    \"emb_dim\": 768,\n",
    "    \"n_heads\": 12,\n",
    "    \"n_layers\": 12,\n",
    "    \"drop_rate\": 0.1,\n",
    "    \"qkv_bias\": False,\n",
    "}\n",
    "\n",
    "class GPTDatasetV1(torch.utils.data.Dataset):\n",
    "\n",
    "    def __init__(self, text, tokenizer, max_length, stride):\n",
    "        self.input_ids = []\n",
    "        self.target_ids = []\n",
    "        token_ids = tokenizer.encode(text)\n",
    "        for i in range(0, len(token_ids) - max_length, stride):\n",
    "            x = token_ids[i: i + max_length]\n",
    "            y = token_ids[i + 1: i + max_length + 1]\n",
    "            self.input_ids.append(torch.tensor(x))\n",
    "            self.target_ids.append(torch.tensor(y))\n",
    "\n",
    "    def __len__(self):\n",
    "        return len(self.input_ids)\n",
    "\n",
    "    def __getitem__(self, index):\n",
    "        return self.input_ids[index], self.target_ids[index]"
   ]
  },
  {
   "cell_type": "code",
   "execution_count": 19,
   "id": "f42f51d4",
   "metadata": {},
   "outputs": [],
   "source": [
    "def create_dataloader_v1(txt, batch_size=4, max_length=256, \n",
    "                         stride=128, shuffle=True, drop_last=True,\n",
    "                         num_workers=0):\n",
    "\n",
    "    # Initialize the tokenizer\n",
    "    tokenizer = tiktoken.get_encoding(\"gpt2\")\n",
    "\n",
    "    # Create dataset\n",
    "    dataset = GPTDatasetV1(txt, tokenizer, max_length, stride)\n",
    "\n",
    "    # Create dataloader\n",
    "    dataloader = torch.utils.data.DataLoader(\n",
    "        dataset,\n",
    "        batch_size=batch_size,\n",
    "        shuffle=shuffle,\n",
    "        drop_last=drop_last,\n",
    "        num_workers=num_workers\n",
    "    )\n",
    "\n",
    "    return dataloader"
   ]
  },
  {
   "cell_type": "code",
   "execution_count": 20,
   "id": "cab79879",
   "metadata": {},
   "outputs": [],
   "source": [
    "torch.manual_seed(123)\n",
    "train_loader = create_dataloader_v1(train_data, batch_size=2, max_length=GPT_CONFIG[\"context_length\"],\n",
    "                                    stride=GPT_CONFIG[\"context_length\"], drop_last=True, shuffle=True, num_workers=0)\n",
    "\n",
    "val_loader = create_dataloader_v1(val_data, batch_size=2, max_length=GPT_CONFIG[\"context_length\"],\n",
    "                                    stride=GPT_CONFIG[\"context_length\"], num_workers=0)"
   ]
  },
  {
   "cell_type": "code",
   "execution_count": 21,
   "id": "d084f447",
   "metadata": {},
   "outputs": [
    {
     "data": {
      "text/plain": [
       "(9, 1)"
      ]
     },
     "execution_count": 21,
     "metadata": {},
     "output_type": "execute_result"
    }
   ],
   "source": [
    "len(train_loader), len(val_loader)"
   ]
  },
  {
   "cell_type": "markdown",
   "id": "8dedc10a",
   "metadata": {},
   "source": [
    "# Sanity Check"
   ]
  },
  {
   "cell_type": "code",
   "execution_count": 23,
   "id": "935207e3",
   "metadata": {},
   "outputs": [
    {
     "name": "stdout",
     "output_type": "stream",
     "text": [
      "torch.Size([2, 256]) torch.Size([2, 256]) torch.Size([2, 256, 50257]) CE Loss: tensor(11.0315)\n"
     ]
    }
   ],
   "source": [
    "import torch.nn.functional as F\n",
    "\n",
    "class CELoss(torch.nn.Module):\n",
    "    def __init__(self):\n",
    "        super().__init__()\n",
    "    \n",
    "    def forward(self, logits: torch.Tensor, target: torch.Tensor):\n",
    "        \"\"\"\n",
    "        logits: Logits of shape BATCH_SIZE, SEQ_LENGTH, VOCAB_SIZE\n",
    "        target: Targets of shape BATCH_SIZE, SEQ_LENGTH\n",
    "        \"\"\"\n",
    "        logits_flatten = logits.flatten(start_dim=0, end_dim=1) # -> BATCH_SIZE * SEQ_LENGTH, VOCB_SIZE\n",
    "        target_flatten = target.flatten() # -> BATCH_SIZE * SEQ_LENGTH\n",
    "        return F.cross_entropy(logits_flatten, target_flatten)\n",
    "\n",
    "loss = CELoss()\n",
    "\n",
    "with torch.no_grad():\n",
    "    model.eval()\n",
    "    for X, y in val_loader:\n",
    "        logits = model(X)\n",
    "        print(X.shape, y.shape, logits.shape, \"CE Loss:\", loss(logits, y))"
   ]
  },
  {
   "cell_type": "code",
   "execution_count": 24,
   "id": "0132af4d",
   "metadata": {},
   "outputs": [],
   "source": [
    "from deepml.tasks import NeuralNetTask\n",
    "\n",
    "model = GPTModel(GPT_CONFIG)\n",
    "\n",
    "task = NeuralNetTask(model, \"./model_wights\")"
   ]
  },
  {
   "cell_type": "code",
   "execution_count": 25,
   "id": "164825ad",
   "metadata": {},
   "outputs": [],
   "source": [
    "from deepml.train import Learner\n",
    "\n",
    "optimizer = torch.optim.AdamW(model.parameters(), lr=4e-4, weight_decay=0.1)\n",
    "loss = CELoss()\n",
    "\n",
    "trainer = Learner(task, optimizer, loss)"
   ]
  },
  {
   "cell_type": "code",
   "execution_count": 26,
   "id": "ee55a90a",
   "metadata": {},
   "outputs": [
    {
     "name": "stdout",
     "output_type": "stream",
     "text": [
      "Epoch 1/10:\n"
     ]
    },
    {
     "name": "stderr",
     "output_type": "stream",
     "text": [
      "Validation  : 100%|██████████| 1/1 [00:06<00:00,  6.15s/it, loss=7.5213] \n"
     ]
    },
    {
     "name": "stdout",
     "output_type": "stream",
     "text": [
      "Training Loss: 9.1085 Validation Loss: 7.5213 [Saving best validation model]\n",
      "Epoch 2/10:\n"
     ]
    },
    {
     "name": "stderr",
     "output_type": "stream",
     "text": [
      "Training    : 100%|██████████| 9/9 [02:48<00:00, 18.77s/it, loss=9.1085]\n",
      "Validation  : 100%|██████████| 1/1 [00:07<00:00,  7.01s/it, loss=6.5171]\n"
     ]
    },
    {
     "name": "stdout",
     "output_type": "stream",
     "text": [
      "Training Loss: 6.4931 Validation Loss: 6.5171 [Saving best validation model]\n",
      "Epoch 3/10:\n"
     ]
    },
    {
     "name": "stderr",
     "output_type": "stream",
     "text": [
      "Training    : 100%|██████████| 9/9 [03:59<00:00, 26.63s/it, loss=6.4931]\n",
      "Validation  : 100%|██████████| 1/1 [00:06<00:00,  6.61s/it, loss=6.5686]\n"
     ]
    },
    {
     "name": "stdout",
     "output_type": "stream",
     "text": [
      "Training Loss: 5.7172 Validation Loss: 6.5686 \n",
      "Epoch 4/10:\n"
     ]
    },
    {
     "name": "stderr",
     "output_type": "stream",
     "text": [
      "Training    : 100%|██████████| 9/9 [03:43<00:00, 24.79s/it, loss=5.7172]\n",
      "Validation  : 100%|██████████| 1/1 [00:07<00:00,  7.50s/it, loss=6.5142]\n"
     ]
    },
    {
     "name": "stdout",
     "output_type": "stream",
     "text": [
      "Training Loss: 5.0226 Validation Loss: 6.5142 [Saving best validation model]\n",
      "Epoch 5/10:\n"
     ]
    },
    {
     "name": "stderr",
     "output_type": "stream",
     "text": [
      "Training    : 100%|██████████| 9/9 [04:04<00:00, 27.21s/it, loss=5.0226]\n",
      "Validation  : 100%|██████████| 1/1 [00:08<00:00,  8.34s/it, loss=6.3687]\n"
     ]
    },
    {
     "name": "stdout",
     "output_type": "stream",
     "text": [
      "Training Loss: 4.2584 Validation Loss: 6.3687 [Saving best validation model]\n",
      "Epoch 6/10:\n"
     ]
    },
    {
     "name": "stderr",
     "output_type": "stream",
     "text": [
      "Training    : 100%|██████████| 9/9 [04:51<00:00, 32.39s/it, loss=4.2584]\n",
      "Validation  : 100%|██████████| 1/1 [00:06<00:00,  6.00s/it, loss=6.4018]\n"
     ]
    },
    {
     "name": "stdout",
     "output_type": "stream",
     "text": [
      "Training Loss: 3.6118 Validation Loss: 6.4018 \n",
      "Epoch 7/10:\n"
     ]
    },
    {
     "name": "stderr",
     "output_type": "stream",
     "text": [
      "Training    : 100%|██████████| 9/9 [03:17<00:00, 21.99s/it, loss=3.6118]\n",
      "Validation  : 100%|██████████| 1/1 [00:02<00:00,  2.44s/it, loss=6.3881]\n"
     ]
    },
    {
     "name": "stdout",
     "output_type": "stream",
     "text": [
      "Training Loss: 2.9067 Validation Loss: 6.3881 \n",
      "Epoch 8/10:\n"
     ]
    },
    {
     "name": "stderr",
     "output_type": "stream",
     "text": [
      "Training    : 100%|██████████| 9/9 [02:03<00:00, 13.74s/it, loss=2.9067]\n",
      "Validation  : 100%|██████████| 1/1 [00:02<00:00,  2.03s/it, loss=6.4239]\n"
     ]
    },
    {
     "name": "stdout",
     "output_type": "stream",
     "text": [
      "Training Loss: 2.3299 Validation Loss: 6.4239 \n",
      "Epoch 9/10:\n"
     ]
    },
    {
     "name": "stderr",
     "output_type": "stream",
     "text": [
      "Training    : 100%|██████████| 9/9 [01:13<00:00,  8.11s/it, loss=2.3299]\n",
      "Validation  : 100%|██████████| 1/1 [00:01<00:00,  1.96s/it, loss=6.5009]\n"
     ]
    },
    {
     "name": "stdout",
     "output_type": "stream",
     "text": [
      "Training Loss: 1.7235 Validation Loss: 6.5009 \n",
      "Epoch 10/10:\n"
     ]
    },
    {
     "name": "stderr",
     "output_type": "stream",
     "text": [
      "Training    : 100%|██████████| 9/9 [01:07<00:00,  7.49s/it, loss=1.7235]\n",
      "Validation  : 100%|██████████| 1/1 [00:01<00:00,  1.96s/it, loss=6.6728]\n"
     ]
    },
    {
     "name": "stdout",
     "output_type": "stream",
     "text": [
      "Training Loss: 1.3035 Validation Loss: 6.6728 \n"
     ]
    },
    {
     "name": "stderr",
     "output_type": "stream",
     "text": [
      "Training    : 100%|██████████| 9/9 [01:21<00:00,  9.09s/it, loss=1.3035]\n"
     ]
    }
   ],
   "source": [
    "trainer.fit(train_loader, val_loader, epochs=10)"
   ]
  },
  {
   "cell_type": "code",
   "execution_count": 32,
   "id": "cb447ed6",
   "metadata": {},
   "outputs": [
    {
     "data": {
      "text/plain": [
       "<matplotlib.legend.Legend at 0x7f9deccfe670>"
      ]
     },
     "execution_count": 32,
     "metadata": {},
     "output_type": "execute_result"
    },
    {
     "data": {
      "image/png": "[encoded data removed]",
      "text/plain": [
       "<Figure size 640x480 with 1 Axes>"
      ]
     },
     "metadata": {},
     "output_type": "display_data"
    }
   ],
   "source": [
    "from matplotlib import pyplot as plt\n",
    "\n",
    "plt.plot(range(10), trainer.history[\"train_loss\"], label=\"Train Loss\")\n",
    "plt.plot(range(10), trainer.history[\"val_loss\"], label=\"Val Loss\")\n",
    "plt.xlabel(\"Epochs\")\n",
    "plt.ylabel(\"CE Loss\")\n",
    "plt.legend()"
   ]
  },
  {
   "cell_type": "markdown",
   "id": "6a97e0d7",
   "metadata": {},
   "source": [
    "## Decoding Strategies To Control Randomness in Text Generation"
   ]
  },
  {
   "cell_type": "markdown",
   "id": "bfcc785f",
   "metadata": {},
   "source": [
    "### 1. Greedy Strategy"
   ]
  },
  {
   "cell_type": "code",
   "execution_count": 56,
   "id": "22d75287",
   "metadata": {},
   "outputs": [],
   "source": [
    "# Select next token always with max prob using argmax\n",
    "def generate_text_sample(model, idx, max_new_tokens, context_size):\n",
    "    model.eval()\n",
    "    for _ in range(max_new_tokens):\n",
    "        idx_cond = idx[:, -context_size:]\n",
    "        with torch.no_grad():\n",
    "            logits = model(idx_cond)\n",
    "        logits = logits[:, -1, :]  # last vector\n",
    "        probas = torch.softmax(logits, dim=-1)\n",
    "        idx_next = torch.argmax(probas, dim=-1, keepdim=True)\n",
    "        idx = torch.cat((idx, idx_next), dim=1)\n",
    "    return idx"
   ]
  },
  {
   "cell_type": "code",
   "execution_count": 57,
   "id": "01c8458d",
   "metadata": {},
   "outputs": [
    {
     "name": "stdout",
     "output_type": "stream",
     "text": [
      "Output Text: how is this have learned that mighty up-stream stroke.\n",
      "\n",
      "\n",
      "\n",
      "\n",
      "\"I turned back to my work, that one long\n"
     ]
    }
   ],
   "source": [
    "input_text = \"how is this\"\n",
    "input_token_ids = tokenizer.encode(input_text)\n",
    "input_token_ids = torch.tensor(input_token_ids).unsqueeze(dim=0) # add batch dimension, BATCH_SIZE, SEQ_LENGTH\n",
    "output_token_ids = generate_text_sample(model, input_token_ids,\n",
    "                                 max_new_tokens=25, context_size=GPT_CONFIG[\"context_length\"])\n",
    "\n",
    "output_token_ids = output_token_ids.squeeze(dim=0).tolist() # remove batch size\n",
    "print(\"Output Text:\", tokenizer.decode(output_token_ids))"
   ]
  },
  {
   "cell_type": "markdown",
   "id": "b2feb721",
   "metadata": {},
   "source": [
    "* Atleast, Better text generation than previously generated output with this trained model on sample data."
   ]
  },
  {
   "cell_type": "markdown",
   "id": "e1d540c2",
   "metadata": {},
   "source": [
    "### 2. Temperature Scaling\n",
    "\n",
    "* a technique that adds a probabilistic selection process to the next-token generation task.\n",
    "* it is just a fancy description for dividing the logits by a number greater than 0.\n",
    "* Temperature greater than 1 results in more uniformly distributed token probabilities and temperatures smaller than 1 will result in more confident distributions."
   ]
  },
  {
   "cell_type": "code",
   "execution_count": null,
   "id": "0a25d5ac",
   "metadata": {},
   "outputs": [],
   "source": [
    "def softmax_with_temperature(logits, temperature: float = 1.0):\n",
    "    scaled_logits = logits / temperature\n",
    "    return torch.softmax(scaled_logits, dim=-1)\n",
    "\n",
    "# Select next token always with max prob using argmax\n",
    "def generate_text_sample_v2(model, idx, max_new_tokens, context_size, temperature):\n",
    "    model.eval()\n",
    "    for _ in range(max_new_tokens):\n",
    "        idx_cond = idx[:, -context_size:]\n",
    "        with torch.no_grad():\n",
    "            logits = model(idx_cond)\n",
    "        logits = logits[:, -1, :]  # last vector #logits of shape [BS, SEQ_LEGNTH, VOCAB_SIZE] => [1, 50257]\n",
    "        probas = softmax_with_temperature(logits, temperature)\n",
    "        idx_next = torch.multinomial(probas, num_samples=1)\n",
    "        idx = torch.cat((idx, idx_next), dim=1)\n",
    "    return idx"
   ]
  },
  {
   "cell_type": "code",
   "execution_count": null,
   "id": "17a7882d",
   "metadata": {},
   "outputs": [],
   "source": [
    "input_text = \"Every effort moves\"\n",
    "input_token_ids = tokenizer.encode(input_text)\n",
    "input_token_ids = torch.tensor(input_token_ids).unsqueeze(dim=0) # add batch dimension, BATCH_SIZE, SEQ_LENGTH\n",
    "output_token_ids = generate_text_sample_v2(model, input_token_ids,\n",
    "                                 max_new_tokens=25, context_size=GPT_CONFIG[\"context_length\"], \n",
    "                                 temperature=5)\n",
    "\n",
    "output_token_ids = output_token_ids.squeeze(dim=0).tolist() # remove batch size\n",
    "print(\"Output Text:\", tokenizer.decode(output_token_ids))"
   ]
  },
  {
   "cell_type": "code",
   "execution_count": 55,
   "id": "2d590aad",
   "metadata": {},
   "outputs": [
    {
     "name": "stdout",
     "output_type": "stream",
     "text": [
      "Output Text: Every effort moves spuriousseeing halves bumps growersOnce mortg ensure spirits corridors Confederate distinction vacuum rode Contact searchedgovernmentRoberprep hoholesIAS Diss nodded Poo\n"
     ]
    }
   ],
   "source": [
    "input_text = \"Every effort moves\"\n",
    "input_token_ids = tokenizer.encode(input_text)\n",
    "input_token_ids = torch.tensor(input_token_ids).unsqueeze(dim=0) # add batch dimension, BATCH_SIZE, SEQ_LENGTH\n",
    "output_token_ids = generate_text_sample_v2(model, input_token_ids,\n",
    "                                 max_new_tokens=25, context_size=GPT_CONFIG[\"context_length\"], \n",
    "                                 temperature=5)\n",
    "\n",
    "output_token_ids = output_token_ids.squeeze(dim=0).tolist() # remove batch size\n",
    "print(\"Output Text:\", tokenizer.decode(output_token_ids))"
   ]
  },
  {
   "cell_type": "markdown",
   "id": "dfa17f52",
   "metadata": {},
   "source": [
    "## Top-K Sampling"
   ]
  },
  {
   "cell_type": "markdown",
   "id": "cf7c0594",
   "metadata": {},
   "source": [
    "* We can restrict the sampled tokens to the top-k most likely tokens and exlude all other tokens from the selection process by masking their probability scores.\n",
    "* The top-k approach replaces all nonselected logits with -inf such that when computing softmax, the probability scores on the non-top-k tokens are 0,"
   ]
  },
  {
   "cell_type": "code",
   "execution_count": 64,
   "id": "d1203773",
   "metadata": {},
   "outputs": [],
   "source": [
    "def softmax_with_temperature(logits, temperature: float = 1.0, topk: int = 5):\n",
    "    topk_logits, _ = torch.topk(logits, topk)\n",
    "    min_val = topk_logits[:, -1]\n",
    "\n",
    "    logits = torch.where(logits < min_val, -torch.inf, logits)\n",
    "    scaled_logits = logits / temperature\n",
    "    return torch.softmax(scaled_logits, dim=-1)\n",
    "\n",
    "# Select next token always with max prob using argmax\n",
    "def generate_text_sample_v3(model, idx, max_new_tokens, context_size, temperature, topk:int = 10):\n",
    "    model.eval()\n",
    "    for _ in range(max_new_tokens):\n",
    "        idx_cond = idx[:, -context_size:]\n",
    "        with torch.no_grad():\n",
    "            logits = model(idx_cond)\n",
    "        logits = logits[:, -1, :]  # last vector\n",
    "        probas = softmax_with_temperature(logits, temperature, topk)\n",
    "        idx_next = torch.multinomial(probas, num_samples=1)\n",
    "        idx = torch.cat((idx, idx_next), dim=1)\n",
    "    return idx"
   ]
  },
  {
   "cell_type": "code",
   "execution_count": 65,
   "id": "177b756f",
   "metadata": {},
   "outputs": [
    {
     "name": "stdout",
     "output_type": "stream",
     "text": [
      "Output Text: Every effort moves you in withoutace up--that was, a face the last thing he wasity\"Oh--that was that it,\n"
     ]
    }
   ],
   "source": [
    "input_text = \"Every effort moves\"\n",
    "input_token_ids = tokenizer.encode(input_text)\n",
    "input_token_ids = torch.tensor(input_token_ids).unsqueeze(dim=0) # add batch dimension, BATCH_SIZE, SEQ_LENGTH\n",
    "output_token_ids = generate_text_sample_v3(model, input_token_ids,\n",
    "                                 max_new_tokens=25, context_size=GPT_CONFIG[\"context_length\"], \n",
    "                                 temperature=5)\n",
    "\n",
    "output_token_ids = output_token_ids.squeeze(dim=0).tolist() # remove batch size\n",
    "print(\"Output Text:\", tokenizer.decode(output_token_ids))"
   ]
  },
  {
   "cell_type": "code",
   "execution_count": 66,
   "id": "6d465e62",
   "metadata": {},
   "outputs": [
    {
     "name": "stdout",
     "output_type": "stream",
     "text": [
      "Output Text: Every effort moves his history withoutia Cro surprise pushed ax, with a _ so. forward enough him down, my work exquisitely on\n"
     ]
    }
   ],
   "source": [
    "input_text = \"Every effort moves\"\n",
    "input_token_ids = tokenizer.encode(input_text)\n",
    "input_token_ids = torch.tensor(input_token_ids).unsqueeze(dim=0) # add batch dimension, BATCH_SIZE, SEQ_LENGTH\n",
    "output_token_ids = generate_text_sample_v3(model, input_token_ids,\n",
    "                                 max_new_tokens=25, context_size=GPT_CONFIG[\"context_length\"], \n",
    "                                 temperature=5)\n",
    "\n",
    "output_token_ids = output_token_ids.squeeze(dim=0).tolist() # remove batch size\n",
    "print(\"Output Text:\", tokenizer.decode(output_token_ids))"
   ]
  },
  {
   "cell_type": "markdown",
   "id": "2dc740b0",
   "metadata": {},
   "source": [
    "### Load GPT-2 Small Pretrained Weights and Generate sample text"
   ]
  },
  {
   "cell_type": "code",
   "execution_count": 1,
   "id": "a3fc5dc6",
   "metadata": {},
   "outputs": [],
   "source": [
    "import torch\n",
    "from transformers import GPT2Tokenizer, GPT2LMHeadModel"
   ]
  },
  {
   "cell_type": "code",
   "execution_count": null,
   "id": "794a138e",
   "metadata": {},
   "outputs": [],
   "source": [
    "tokenizer = GPT2Tokenizer.from_pretrained('gpt2')\n",
    "model = GPT2LMHeadModel.from_pretrained('gpt2')"
   ]
  },
  {
   "cell_type": "code",
   "execution_count": 9,
   "id": "d776458e",
   "metadata": {},
   "outputs": [
    {
     "name": "stdout",
     "output_type": "stream",
     "text": [
      "Encoded: {'input_ids': tensor([[6109, 3626, 6100,  345]]), 'attention_mask': tensor([[1, 1, 1, 1]])}\n",
      "Encoded Tensor Shape: torch.Size([1, 4])\n"
     ]
    }
   ],
   "source": [
    "text = \"Every effort moves you\"\n",
    "encoded_input = tokenizer(text, return_tensors='pt')\n",
    "print(\"Encoded:\", encoded_input)\n",
    "print(\"Encoded Tensor Shape:\", encoded_input[\"input_ids\"].shape)"
   ]
  },
  {
   "cell_type": "code",
   "execution_count": 10,
   "id": "003a6667",
   "metadata": {},
   "outputs": [
    {
     "name": "stderr",
     "output_type": "stream",
     "text": [
      "Setting `pad_token_id` to `eos_token_id`:50256 for open-end generation.\n"
     ]
    },
    {
     "data": {
      "text/plain": [
       "'Every effort moves you forward.\\n\\nThe first step is to understand the importance of your work.\\n\\nThe second step is to understand the'"
      ]
     },
     "execution_count": 10,
     "metadata": {},
     "output_type": "execute_result"
    }
   ],
   "source": [
    "# Greedy Strategy\n",
    "output_tokens = model.generate(**encoded_input, max_new_tokens=25)\n",
    "tokenizer.decode(output_tokens[0])"
   ]
  },
  {
   "cell_type": "code",
   "execution_count": 15,
   "id": "899206d1",
   "metadata": {},
   "outputs": [
    {
     "name": "stderr",
     "output_type": "stream",
     "text": [
      "Setting `pad_token_id` to `eos_token_id`:50256 for open-end generation.\n"
     ]
    },
    {
     "data": {
      "text/plain": [
       "\"Every effort moves you towards being successful.\\n\\nIf it's not clear how long the effort will take (i.e., the task is\""
      ]
     },
     "execution_count": 15,
     "metadata": {},
     "output_type": "execute_result"
    }
   ],
   "source": [
    "output_tokens = model.generate(**encoded_input, max_new_tokens=25, top_k=10, temperature=1.5, do_sample=True)\n",
    "tokenizer.decode(output_tokens[0])"
   ]
  },
  {
   "cell_type": "code",
   "execution_count": 16,
   "id": "a2c72a2e",
   "metadata": {},
   "outputs": [
    {
     "name": "stderr",
     "output_type": "stream",
     "text": [
      "Setting `pad_token_id` to `eos_token_id`:50256 for open-end generation.\n"
     ]
    },
    {
     "data": {
      "text/plain": [
       "'Every effort moves you in an unexpected, sometimes surprising way. In our case it was to try and keep up with our family and friends, who'"
      ]
     },
     "execution_count": 16,
     "metadata": {},
     "output_type": "execute_result"
    }
   ],
   "source": [
    "output_tokens = model.generate(**encoded_input, max_new_tokens=25, top_k=10, temperature=1.5, do_sample=True)\n",
    "tokenizer.decode(output_tokens[0])"
   ]
  },
  {
   "cell_type": "markdown",
   "id": "5abe2637",
   "metadata": {},
   "source": [
    "* As you can see, a lot better output of pretrained GPT-2 model trained on larger dataset"
   ]
  },
  {
   "cell_type": "code",
   "execution_count": null,
   "id": "d8b29f91",
   "metadata": {},
   "outputs": [],
   "source": []
  }
 ],
 "metadata": {
  "kernelspec": {
   "display_name": "tti-model-inference-env",
   "language": "python",
   "name": "python3"
  },
  "language_info": {
   "codemirror_mode": {
    "name": "ipython",
    "version": 3
   },
   "file_extension": ".py",
   "mimetype": "text/x-python",
   "name": "python",
   "nbconvert_exporter": "python",
   "pygments_lexer": "ipython3",
   "version": "3.8.16"
  }
 },
 "nbformat": 4,
 "nbformat_minor": 5
}
